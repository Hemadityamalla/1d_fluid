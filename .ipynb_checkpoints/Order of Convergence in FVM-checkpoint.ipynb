{
 "cells": [
  {
   "cell_type": "code",
   "execution_count": 3,
   "metadata": {},
   "outputs": [],
   "source": [
    "import numpy as np\n",
    "import matplotlib.pyplot as plt\n",
    "import matplotlib\n",
    "from scipy.interpolate import interp1d\n",
    "%matplotlib inline"
   ]
  },
  {
   "cell_type": "code",
   "execution_count": 4,
   "metadata": {},
   "outputs": [],
   "source": [
    "def advectionEqn(dx, dt, filename):\n",
    "    x0 = 0.0\n",
    "    xL = 512.0\n",
    "    nCells = int((xL-x0)/dx)\n",
    "    x = np.linspace(x0+dx, xL-dx, nCells)\n",
    "    xb = 31.0\n",
    "    Eb = -1.0\n",
    "    Tfinal = 75.0\n",
    "    #Initialize fields\n",
    "    ne = np.zeros(nCells+2)\n",
    "    neTemp = np.zeros(nCells+2)\n",
    "    ne[1:-1] = 0.01*np.exp(-0.01*(x - xb)**2)\n",
    "    ne[0] = -ne[1]\n",
    "    ne[-1] = ne[-2]\n",
    "    t = 0.0\n",
    "    iiter = 1\n",
    "    \n",
    "    while t < Tfinal:\n",
    "        k1 = (ne[0:nCells] - ne[1:nCells+1])/dx\n",
    "        neTemp[1:-1] = ne[1:-1] + 0.5*dt*k1\n",
    "        neTemp[0] = -neTemp[1]\n",
    "        neTemp[-1] = neTemp[-2]\n",
    "        k2 = (neTemp[0:nCells] - neTemp[1:nCells+1])/dx\n",
    "        neTemp[1:-1] = ne[1:-1] + 0.5*dt*k2\n",
    "        neTemp[0] = -neTemp[1]\n",
    "        neTemp[-1] = neTemp[-2]\n",
    "        k3 = (neTemp[0:nCells] - neTemp[1:nCells+1])/dx\n",
    "        neTemp[1:-1] = ne[1:-1] + dt*k3\n",
    "        neTemp[0] = -neTemp[1]\n",
    "        neTemp[-1] = neTemp[-2]\n",
    "        k4 = (neTemp[0:nCells] - neTemp[1:nCells+1])/dx\n",
    "        \n",
    "        ne[1:-1] = ne[1:-1] + (dt/6.0)*(k1 + 2*k2 + 2*k3 + k4)\n",
    "        ne[0] = -ne[1]\n",
    "        ne[-1] = ne[-2]\n",
    "        #plt.plot(x, ne[1:-1],'b')\n",
    "        t = t + dt\n",
    "        iiter = iiter + 1\n",
    "        if (ne > 1e5).any():\n",
    "            print('Solution diverges\\n')\n",
    "            break\n",
    "    print('Simulation Done, saving data \\n')\n",
    "    np.savetxt(filename+('.txt'), \\\n",
    "               np.asarray([x, ne[1:-1]]).T,delimiter=',')\n"
   ]
  },
  {
   "cell_type": "markdown",
   "metadata": {},
   "source": [
    "### Space Convergence- advection"
   ]
  },
  {
   "cell_type": "code",
   "execution_count": 5,
   "metadata": {},
   "outputs": [
    {
     "name": "stdout",
     "output_type": "stream",
     "text": [
      "Simulation Done, saving data \n",
      "\n",
      "Simulation Done, saving data \n",
      "\n",
      "Simulation Done, saving data \n",
      "\n",
      "Simulation Done, saving data \n",
      "\n",
      "Simulation Done, saving data \n",
      "\n",
      "Simulation Done, saving data \n",
      "\n"
     ]
    },
    {
     "data": {
      "text/plain": [
       "array([ 1.10360283, -2.71519363])"
      ]
     },
     "execution_count": 5,
     "metadata": {},
     "output_type": "execute_result"
    }
   ],
   "source": [
    "dt = 0.015\n",
    "dxVals = (2**np.array([1.0,2.0,3.0,4.0,5.0, 6.0]))**(-1.0)\n",
    "for dx in dxVals:\n",
    "    filename = 'advection'+str(dx)\n",
    "    advectionEqn(dx,dt,filename)\n",
    "    \n",
    "    \n",
    "#Loading data\n",
    "uh = np.loadtxt('advection0.5.txt',delimiter=',')\n",
    "uh2 = np.loadtxt('advection0.25.txt',delimiter=',')\n",
    "uh4 = np.loadtxt('advection0.125.txt',delimiter=',')\n",
    "uh8 = np.loadtxt('advection0.0625.txt',delimiter=',')\n",
    "uh16 = np.loadtxt('advection0.03125.txt',delimiter=',')\n",
    "uh32 = np.loadtxt('advection0.015625.txt',delimiter=',')\n",
    "\n",
    "uhavg = np.repeat(uh[:,1],32)\n",
    "uh2avg = np.repeat(uh2[:,1],16)\n",
    "uh4avg = np.repeat(uh4[:,1],8)\n",
    "uh8avg = np.repeat(uh8[:,1],4)\n",
    "uh16avg = np.repeat(uh16[:,1],2)\n",
    "\n",
    "error = np.array([np.linalg.norm(uh32[:,1] - uhavg), \\\n",
    "                 np.linalg.norm(uh32[:,1] - uh2avg), \\\n",
    "                 np.linalg.norm(uh32[:,1] - uh4avg), \\\n",
    "                 np.linalg.norm(uh32[:,1] - uh8avg), \\\n",
    "                 np.linalg.norm(uh32[:,1] - uh16avg)])\n",
    "\n",
    "np.polyfit(np.log2(dxVals[0:-1]), np.log2(error),1)"
   ]
  },
  {
   "cell_type": "markdown",
   "metadata": {},
   "source": [
    "### Time convergence- advection"
   ]
  },
  {
   "cell_type": "code",
   "execution_count": 6,
   "metadata": {},
   "outputs": [
    {
     "name": "stdout",
     "output_type": "stream",
     "text": [
      "Simulation Done, saving data \n",
      "\n",
      "Simulation Done, saving data \n",
      "\n",
      "Simulation Done, saving data \n",
      "\n",
      "Simulation Done, saving data \n",
      "\n",
      "Simulation Done, saving data \n",
      "\n",
      "Simulation Done, saving data \n",
      "\n"
     ]
    },
    {
     "data": {
      "text/plain": [
       "array([  4.02210828, -20.75571181])"
      ]
     },
     "execution_count": 6,
     "metadata": {},
     "output_type": "execute_result"
    }
   ],
   "source": [
    "dx = 1.0\n",
    "dtVals = (2**np.array([1.0,2.0,3.0,4.0,5.0, 6.0]))**(-1.0)\n",
    "for dt in dtVals:\n",
    "    filename = 'advection'+str(dt)\n",
    "    advectionEqn(dx,dt,filename)\n",
    "\n",
    "#Time post processing\n",
    "#Loading data\n",
    "uh = np.loadtxt('advection0.5.txt',delimiter=',')\n",
    "uh2 = np.loadtxt('advection0.25.txt',delimiter=',')\n",
    "uh4 = np.loadtxt('advection0.125.txt',delimiter=',')\n",
    "uh8 = np.loadtxt('advection0.0625.txt',delimiter=',')\n",
    "uh16 = np.loadtxt('advection0.03125.txt',delimiter=',')\n",
    "uh32 = np.loadtxt('advection0.015625.txt',delimiter=',')\n",
    "\n",
    "error = np.array([np.linalg.norm(uh32[:,1] - uh[:,1]), \\\n",
    "                 np.linalg.norm(uh32[:,1] - uh2[:,1]), \\\n",
    "                 np.linalg.norm(uh32[:,1] - uh4[:,1]), \\\n",
    "                 np.linalg.norm(uh32[:,1] - uh8[:,1]), \\\n",
    "                 np.linalg.norm(uh32[:,1] - uh16[:,1])])\n",
    "\n",
    "np.polyfit(np.log2(dxVals[0:-1]), np.log2(error),1)"
   ]
  },
  {
   "cell_type": "markdown",
   "metadata": {},
   "source": [
    "## Diffusion convergence------------------------------------------------------------"
   ]
  },
  {
   "cell_type": "code",
   "execution_count": 21,
   "metadata": {},
   "outputs": [],
   "source": [
    "def diffusionEqn(dx, dt, filename):\n",
    "    x0 = 0.0\n",
    "    xL = 256.0\n",
    "    nCells = int((xL-x0)/dx)\n",
    "    x = np.linspace(x0+dx, xL-dx, nCells)\n",
    "    xb = 100.0\n",
    "    D = 1.5\n",
    "    courant = (D*dt)/(dx**2)\n",
    "    print('Courant:', courant)\n",
    "    if courant > 0.5:\n",
    "        dt = 0.1*dt\n",
    "    #dt = (dx**2)/(0.5*D)\n",
    "    Tfinal = 50.0\n",
    "    #Initialize fields\n",
    "    ne = np.zeros(nCells+2)\n",
    "    neTemp = np.zeros(nCells+2)\n",
    "    ne[1:-1] = 0.01*np.exp(-0.001*(x - xb)**2)\n",
    "    ne[0] = -ne[1]\n",
    "    ne[-1] = ne[-2]\n",
    "    t = 0.0\n",
    "    iiter = 1\n",
    "    #plt.plot(x, ne[1:-1],'b')\n",
    "    while t < Tfinal:\n",
    "        k1 = (D/dx**2)*(ne[2:] - 2.0*ne[1:-1] + ne[:-2])\n",
    "        neTemp[1:-1] = ne[1:-1] + 0.5*dt*k1\n",
    "        neTemp[0] = -neTemp[1]\n",
    "        neTemp[-1] = neTemp[-2]\n",
    "        k2 = (D/dx**2)*(neTemp[2:] - 2.0*neTemp[1:-1] + neTemp[:-2])\n",
    "        neTemp[1:-1] = ne[1:-1] + 0.5*dt*k2\n",
    "        neTemp[0] = -neTemp[1]\n",
    "        neTemp[-1] = neTemp[-2]\n",
    "        k3 = (D/dx**2)*(neTemp[2:] - 2.0*neTemp[1:-1] + neTemp[:-2])\n",
    "        neTemp[1:-1] = ne[1:-1] + dt*k3\n",
    "        neTemp[0] = -neTemp[1]\n",
    "        neTemp[-1] = neTemp[-2]\n",
    "        k4 = (D/dx**2)*(neTemp[2:] - 2.0*neTemp[1:-1] + neTemp[:-2])\n",
    "        ne[1:-1] = ne[1:-1] + (dt/6.0)*(k1 + 2*k2 + 2*k3 + k4)\n",
    "        ne[0] = -ne[1]\n",
    "        ne[-1] = ne[-2]\n",
    "        #plt.plot(x, ne[1:-1],'b')\n",
    "        #plt.show()\n",
    "        t = t + dt\n",
    "        iiter = iiter + 1\n",
    "        if (ne > 1e5).any():\n",
    "            print('Solution diverges\\n')\n",
    "            break\n",
    "    print('Simulation Done, saving data \\n')\n",
    "    np.savetxt(filename+('.txt'), \\\n",
    "               np.asarray([x, ne[1:-1]]).T,delimiter=',')\n",
    "    #plt.plot(x, ne[1:-1],'y')    \n",
    "    #plt.show()"
   ]
  },
  {
   "cell_type": "code",
   "execution_count": 22,
   "metadata": {},
   "outputs": [
    {
     "name": "stdout",
     "output_type": "stream",
     "text": [
      "Courant: 0.14999999999999997\n",
      "Simulation Done, saving data \n",
      "\n"
     ]
    }
   ],
   "source": [
    "#Test for diffusion\n",
    "diffusionEqn(0.1, 0.001, 'diffusion'+str(0.1))"
   ]
  },
  {
   "cell_type": "markdown",
   "metadata": {},
   "source": [
    "### Space convergence- diffusion"
   ]
  },
  {
   "cell_type": "code",
   "execution_count": 23,
   "metadata": {},
   "outputs": [
    {
     "name": "stdout",
     "output_type": "stream",
     "text": [
      "Courant: 0.003\n",
      "Simulation Done, saving data \n",
      "\n",
      "Courant: 0.012\n",
      "Simulation Done, saving data \n",
      "\n",
      "Courant: 0.048\n",
      "Simulation Done, saving data \n",
      "\n",
      "Courant: 0.192\n",
      "Simulation Done, saving data \n",
      "\n",
      "Courant: 0.768\n",
      "Simulation Done, saving data \n",
      "\n",
      "Courant: 3.072\n",
      "Simulation Done, saving data \n",
      "\n"
     ]
    },
    {
     "data": {
      "text/plain": [
       "array([ 1.07328181, -7.74319385])"
      ]
     },
     "execution_count": 23,
     "metadata": {},
     "output_type": "execute_result"
    }
   ],
   "source": [
    "dt = 0.0005\n",
    "dxVals = (2**np.array([1.0,2.0,3.0,4.0,5.0,6.0]))**(-1.0)\n",
    "for dx in dxVals:\n",
    "    filename = 'diffusion'+str(dx)\n",
    "    diffusionEqn(dx,dt,filename)\n",
    "#Loading data\n",
    "uh = np.loadtxt('diffusion0.5.txt',delimiter=',')\n",
    "uh2 = np.loadtxt('diffusion0.25.txt',delimiter=',')\n",
    "uh4 = np.loadtxt('diffusion0.125.txt',delimiter=',')\n",
    "uh8 = np.loadtxt('diffusion0.0625.txt',delimiter=',')\n",
    "uh16 = np.loadtxt('diffusion0.03125.txt',delimiter=',')\n",
    "exact = np.loadtxt('diffusion0.015625.txt',delimiter=',')\n",
    "'''\n",
    "#Assuming piecewise constant solutions\n",
    "uhavg = np.repeat(uh[:,1],32)\n",
    "uh2avg = np.repeat(uh2[:,1],16)\n",
    "uh4avg = np.repeat(uh4[:,1],8)\n",
    "uh8avg = np.repeat(uh8[:,1],4)\n",
    "uh16avg = np.repeat(uh16[:,1],2)\n",
    "'''\n",
    "#Assuming piecewise linear solutions\n",
    "\n",
    "uhFn = interp1d(uh[:,0], uh[:,1],kind='linear')\n",
    "uh2Fn = interp1d(uh2[:,0], uh2[:,1],kind='linear')\n",
    "uh4Fn = interp1d(uh2[:,0], uh4[:,1],kind='linear')\n",
    "uh8Fn = interp1d(uh2[:,0], uh8[:,1],kind='linear')\n",
    "uh16Fn = interp1d(uh2[:,0], uh16[:,1],kind='linear')\n",
    "uh32Fn = interp1d(uh32[:,0], uh32[:,1],kind='linear')\n",
    "\n",
    "\n",
    "\n",
    "\n",
    "\n",
    "\n",
    "error = np.array([np.linalg.norm(exact[:,1] - uhavg), \\\n",
    "                 np.linalg.norm(exact[:,1] - uh2avg), \\\n",
    "                 np.linalg.norm(exact[:,1] - uh4avg), \\\n",
    "                 np.linalg.norm(exact[:,1] - uh8avg), \\\n",
    "                 np.linalg.norm(exact[:,1] - uh16avg)])\n",
    "\n",
    "np.polyfit(np.log2(dxVals[0:-1]), np.log2(error),1)"
   ]
  },
  {
   "cell_type": "code",
   "execution_count": 24,
   "metadata": {},
   "outputs": [
    {
     "data": {
      "text/plain": [
       "array([ 1.14011523, -8.74215556])"
      ]
     },
     "execution_count": 24,
     "metadata": {},
     "output_type": "execute_result"
    }
   ],
   "source": [
    "uhavg = np.repeat(uh[:,1],8)\n",
    "uh2avg = np.repeat(uh2[:,1],4)\n",
    "uh4avg = np.repeat(uh4[:,1],2)\n",
    "exact = uh8[:,1]\n",
    "#uh16avg = np.repeat(uh16[:,1],2)\n",
    "\n",
    "error = np.array([np.linalg.norm(exact[:] - uhavg), \\\n",
    "                 np.linalg.norm(exact[:] - uh2avg), \\\n",
    "                 np.linalg.norm(exact[:] - uh4avg)])\n",
    "\n",
    "np.polyfit(np.log2(dxVals[0:-3]), np.log2(error),1)"
   ]
  },
  {
   "cell_type": "code",
   "execution_count": 25,
   "metadata": {},
   "outputs": [
    {
     "data": {
      "text/plain": [
       "array([0.00104204, 0.0004971 , 0.00021452])"
      ]
     },
     "execution_count": 25,
     "metadata": {},
     "output_type": "execute_result"
    }
   ],
   "source": [
    "error"
   ]
  },
  {
   "cell_type": "code",
   "execution_count": null,
   "metadata": {
    "collapsed": true
   },
   "outputs": [],
   "source": []
  }
 ],
 "metadata": {
  "kernelspec": {
   "display_name": "Python 3",
   "language": "python",
   "name": "python3"
  },
  "language_info": {
   "codemirror_mode": {
    "name": "ipython",
    "version": 3
   },
   "file_extension": ".py",
   "mimetype": "text/x-python",
   "name": "python",
   "nbconvert_exporter": "python",
   "pygments_lexer": "ipython3",
   "version": "3.7.3"
  }
 },
 "nbformat": 4,
 "nbformat_minor": 2
}
